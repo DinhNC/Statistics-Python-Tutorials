{
 "cells": [
  {
   "cell_type": "markdown",
   "metadata": {},
   "source": [
    "# Sử dụng ggplot2 trong Python\n",
    "\n",
    "### BS. Lê Ngọc Khả Nhi\n",
    "\n",
    "Bài thực hành sau đây dành cho bạn mới chuyển từ R sang Python nhưng còn luyến tiếc phong cách đồ họa của thư viện ggplot2 và chưa quen với các thư viện như matplotlib hay seaborn. Tin vui, đó là chúng ta hoàn toàn có thể sử dụng các thư viện của R trong ngôn ngữ Python, bao gồm gpplot2, tuy phải vượt qua một số công đoạn kỹ thuật.\n",
    "\n",
    "Đầu tiên, các bạn cần install package rpy2 : https://anaconda.org/r/rpy2\n",
    "\n",
    "Package rpy2 cho phép import những thư viện của R như module Python, sau đó import và sử dụng tính năng của chúng trong ngôn ngữ Python, tương thích với những cấu trúc dữ liệu Python như pandas dataframe."
   ]
  },
  {
   "cell_type": "code",
   "execution_count": null,
   "metadata": {},
   "outputs": [],
   "source": [
    " !conda install -c r rpy2 "
   ]
  },
  {
   "cell_type": "markdown",
   "metadata": {},
   "source": [
    "## Install một R package\n",
    "\n",
    "Ta chưa có package ggplot2 nên cần phải install nó từ CRAN, theo quy trình sau đây:"
   ]
  },
  {
   "cell_type": "code",
   "execution_count": 7,
   "metadata": {},
   "outputs": [],
   "source": [
    "from rpy2.robjects.packages import importr"
   ]
  },
  {
   "cell_type": "code",
   "execution_count": 7,
   "metadata": {},
   "outputs": [],
   "source": [
    "utils = importr('utils')\n",
    "utils.install_packages('ggplot2')"
   ]
  },
  {
   "cell_type": "markdown",
   "metadata": {},
   "source": [
    "Sau khi install xong, mình kiểm tra lại xem ggplot2 có sẵn sàng chưa ?"
   ]
  },
  {
   "cell_type": "code",
   "execution_count": 2,
   "metadata": {},
   "outputs": [
    {
     "data": {
      "text/plain": [
       "True"
      ]
     },
     "execution_count": 2,
     "metadata": {},
     "output_type": "execute_result"
    }
   ],
   "source": [
    "import rpy2.robjects.packages as rpackages\n",
    "rpackages.isinstalled('ggplot2')"
   ]
  },
  {
   "cell_type": "markdown",
   "metadata": {},
   "source": [
    "## Vẽ biểu đồ từ pandas dataframe\n",
    "\n",
    "Nhi tải một file dữ liệu minh họa từ github vào một pandas dataframe object:"
   ]
  },
  {
   "cell_type": "code",
   "execution_count": 3,
   "metadata": {},
   "outputs": [
    {
     "data": {
      "text/html": [
       "<div>\n",
       "<style scoped>\n",
       "    .dataframe tbody tr th:only-of-type {\n",
       "        vertical-align: middle;\n",
       "    }\n",
       "\n",
       "    .dataframe tbody tr th {\n",
       "        vertical-align: top;\n",
       "    }\n",
       "\n",
       "    .dataframe thead th {\n",
       "        text-align: right;\n",
       "    }\n",
       "</style>\n",
       "<table border=\"1\" class=\"dataframe\">\n",
       "  <thead>\n",
       "    <tr style=\"text-align: right;\">\n",
       "      <th></th>\n",
       "      <th>Poids</th>\n",
       "      <th>Taille</th>\n",
       "      <th>BMI</th>\n",
       "      <th>Age</th>\n",
       "      <th>Sexe</th>\n",
       "      <th>Hb</th>\n",
       "      <th>Diagnostic</th>\n",
       "      <th>GST</th>\n",
       "      <th>Volume</th>\n",
       "      <th>Surface</th>\n",
       "      <th>DmCO</th>\n",
       "      <th>Thickness</th>\n",
       "      <th>DLCO</th>\n",
       "      <th>FVC</th>\n",
       "    </tr>\n",
       "  </thead>\n",
       "  <tbody>\n",
       "    <tr>\n",
       "      <th>0</th>\n",
       "      <td>53</td>\n",
       "      <td>165</td>\n",
       "      <td>19.467401</td>\n",
       "      <td>54</td>\n",
       "      <td>F</td>\n",
       "      <td>13.4</td>\n",
       "      <td>E</td>\n",
       "      <td>1.284048</td>\n",
       "      <td>7.0080</td>\n",
       "      <td>19.647869</td>\n",
       "      <td>450.315872</td>\n",
       "      <td>0.142701</td>\n",
       "      <td>6.767</td>\n",
       "      <td>2.30</td>\n",
       "    </tr>\n",
       "    <tr>\n",
       "      <th>1</th>\n",
       "      <td>92</td>\n",
       "      <td>170</td>\n",
       "      <td>31.833910</td>\n",
       "      <td>75</td>\n",
       "      <td>H</td>\n",
       "      <td>17.1</td>\n",
       "      <td>E</td>\n",
       "      <td>1.291861</td>\n",
       "      <td>3.7750</td>\n",
       "      <td>10.519710</td>\n",
       "      <td>72.271882</td>\n",
       "      <td>0.476060</td>\n",
       "      <td>19.146</td>\n",
       "      <td>3.04</td>\n",
       "    </tr>\n",
       "    <tr>\n",
       "      <th>2</th>\n",
       "      <td>69</td>\n",
       "      <td>186</td>\n",
       "      <td>19.944502</td>\n",
       "      <td>41</td>\n",
       "      <td>H</td>\n",
       "      <td>14.6</td>\n",
       "      <td>E</td>\n",
       "      <td>1.211214</td>\n",
       "      <td>7.7695</td>\n",
       "      <td>23.092705</td>\n",
       "      <td>372.142895</td>\n",
       "      <td>0.202952</td>\n",
       "      <td>29.047</td>\n",
       "      <td>5.72</td>\n",
       "    </tr>\n",
       "    <tr>\n",
       "      <th>3</th>\n",
       "      <td>60</td>\n",
       "      <td>160</td>\n",
       "      <td>23.437500</td>\n",
       "      <td>75</td>\n",
       "      <td>F</td>\n",
       "      <td>13.5</td>\n",
       "      <td>E</td>\n",
       "      <td>1.439790</td>\n",
       "      <td>4.3295</td>\n",
       "      <td>10.825326</td>\n",
       "      <td>89.206177</td>\n",
       "      <td>0.396893</td>\n",
       "      <td>14.943</td>\n",
       "      <td>2.57</td>\n",
       "    </tr>\n",
       "    <tr>\n",
       "      <th>4</th>\n",
       "      <td>72</td>\n",
       "      <td>172</td>\n",
       "      <td>24.337480</td>\n",
       "      <td>60</td>\n",
       "      <td>H</td>\n",
       "      <td>14.6</td>\n",
       "      <td>E</td>\n",
       "      <td>1.388885</td>\n",
       "      <td>5.5610</td>\n",
       "      <td>14.414152</td>\n",
       "      <td>180.833030</td>\n",
       "      <td>0.260699</td>\n",
       "      <td>13.888</td>\n",
       "      <td>4.36</td>\n",
       "    </tr>\n",
       "  </tbody>\n",
       "</table>\n",
       "</div>"
      ],
      "text/plain": [
       "   Poids  Taille        BMI  Age Sexe    Hb Diagnostic       GST  Volume  \\\n",
       "0     53     165  19.467401   54    F  13.4          E  1.284048  7.0080   \n",
       "1     92     170  31.833910   75    H  17.1          E  1.291861  3.7750   \n",
       "2     69     186  19.944502   41    H  14.6          E  1.211214  7.7695   \n",
       "3     60     160  23.437500   75    F  13.5          E  1.439790  4.3295   \n",
       "4     72     172  24.337480   60    H  14.6          E  1.388885  5.5610   \n",
       "\n",
       "     Surface        DmCO  Thickness    DLCO   FVC  \n",
       "0  19.647869  450.315872   0.142701   6.767  2.30  \n",
       "1  10.519710   72.271882   0.476060  19.146  3.04  \n",
       "2  23.092705  372.142895   0.202952  29.047  5.72  \n",
       "3  10.825326   89.206177   0.396893  14.943  2.57  \n",
       "4  14.414152  180.833030   0.260699  13.888  4.36  "
      ]
     },
     "execution_count": 3,
     "metadata": {},
     "output_type": "execute_result"
    }
   ],
   "source": [
    "import pandas as pd\n",
    "\n",
    "df = pd.read_csv('https://raw.githubusercontent.com/kinokoberuji/R-Tutorials/master/aerodim.csv',\n",
    "                sep = ';')\n",
    "\n",
    "df.head()"
   ]
  },
  {
   "cell_type": "markdown",
   "metadata": {},
   "source": [
    "Khi phân tích dữ liệu với Python, ta thường dùng 2 thư viện đồ họa matplotlib và seaborn, thí dụ sau đây ta vẽ một boxplot bằng seaborn:"
   ]
  },
  {
   "cell_type": "code",
   "execution_count": 4,
   "metadata": {},
   "outputs": [],
   "source": [
    "import seaborn as sns\n",
    "import matplotlib.pyplot as plt\n",
    "sns.set_style(\"whitegrid\")\n",
    "sns.set_palette(\"husl\")"
   ]
  },
  {
   "cell_type": "code",
   "execution_count": 35,
   "metadata": {},
   "outputs": [
    {
     "data": {
      "text/plain": [
       "<matplotlib.axes._subplots.AxesSubplot at 0x2339eba9988>"
      ]
     },
     "execution_count": 35,
     "metadata": {},
     "output_type": "execute_result"
    },
    {
     "data": {
      "image/png": "[encoded data removed]",
      "text/plain": [
       "<Figure size 576x432 with 1 Axes>"
      ]
     },
     "metadata": {},
     "output_type": "display_data"
    }
   ],
   "source": [
    "plt.figure(figsize=(8,6))\n",
    "sns.boxplot(data = df, y = 'Diagnostic', x = 'Thickness', )"
   ]
  },
  {
   "cell_type": "markdown",
   "metadata": {},
   "source": [
    "## Sử dụng ggplot2 trong Python\n",
    "\n",
    "Bây giờ ta vào tiết mục chính, dùng ggplot2 để vẽ biểu đồ trong Python và so sánh với seaborn.\n",
    "\n",
    "Trước hết, ta cần import ggplot2 từ rpy2, lúc này ggplot2 được xem như 1 module Python:"
   ]
  },
  {
   "cell_type": "code",
   "execution_count": 5,
   "metadata": {},
   "outputs": [
    {
     "name": "stderr",
     "output_type": "stream",
     "text": [
      "C:\\Users\\bacsi\\Anaconda3\\lib\\site-packages\\rpy2\\robjects\\lib\\ggplot2.py:67: UserWarning: This was designed againt ggplot2 version 2.2.1 but you have 3.2.1\n",
      "  warnings.warn('This was designed againt ggplot2 version %s but you have %s' % (TARGET_VERSION, ggplot2.__version__))\n"
     ]
    }
   ],
   "source": [
    "# Import ggplot2 package như 1 module Python\n",
    "\n",
    "import rpy2.robjects.lib.ggplot2 as ggplot2"
   ]
  },
  {
   "cell_type": "markdown",
   "metadata": {},
   "source": [
    "Nhưng ta vẫn chưa sẵn sàng để dùng cú pháp ggplot2, ta còn phải chuẩn bị 1 hàm sau đây để in biểu đồ xuất ra từ ggplot2 vào notebook và file ảnh PNG:"
   ]
  },
  {
   "cell_type": "code",
   "execution_count": 8,
   "metadata": {},
   "outputs": [],
   "source": [
    "# Chuẩn bị graphic engine ggplot dùng cho Jupyter notebook\n",
    "\n",
    "import uuid\n",
    "from IPython.core.display import Image\n",
    "\n",
    "grdevices = importr('grDevices')\n",
    "\n",
    "def ggplot_notebook(gg, width = 600, height = 400, name = None):\n",
    "    fn = name or '{uuid}.png'.format(uuid = uuid.uuid4())\n",
    "    grdevices.png(fn, width = width, height = height)\n",
    "    gg.plot()\n",
    "    grdevices.dev_off()\n",
    "    return Image(filename=fn)"
   ]
  },
  {
   "cell_type": "markdown",
   "metadata": {},
   "source": [
    "Lưu ý rằng rpy2 không tương thích mặc định với pandas dataframe, ta cần dùng 1 method hoán chuyển từ pandas dataframe thành R dataframe"
   ]
  },
  {
   "cell_type": "code",
   "execution_count": 10,
   "metadata": {},
   "outputs": [
    {
     "data": {
      "text/html": [
       "\n",
       "    <span>R/rpy2 DataFrame (38 x 14)</span>\n",
       "    <table>\n",
       "      <thead>\n",
       "        <tr>\n",
       "        \n",
       "          <th>Poids</th>\n",
       "        \n",
       "          <th>Taille</th>\n",
       "        \n",
       "          <th>BMI</th>\n",
       "        \n",
       "          <th>...</th>\n",
       "        \n",
       "          <th>Thickness</th>\n",
       "        \n",
       "          <th>DLCO</th>\n",
       "        \n",
       "          <th>FVC</th>\n",
       "        \n",
       "        </tr>\n",
       "      </thead>\n",
       "      <tbody>\n",
       "      \n",
       "      <tr>\n",
       "      \n",
       "      <td>\n",
       "        53\n",
       "      </td>\n",
       "      \n",
       "      <td>\n",
       "        165\n",
       "      </td>\n",
       "      \n",
       "      <td>\n",
       "        19.467401\n",
       "      </td>\n",
       "      \n",
       "      <td>\n",
       "        ...\n",
       "      </td>\n",
       "      \n",
       "      <td>\n",
       "        0.142701\n",
       "      </td>\n",
       "      \n",
       "      <td>\n",
       "        6.767000\n",
       "      </td>\n",
       "      \n",
       "      <td>\n",
       "        2.300000\n",
       "      </td>\n",
       "      \n",
       "      </tr>\n",
       "      \n",
       "      <tr>\n",
       "      \n",
       "      <td>\n",
       "        92\n",
       "      </td>\n",
       "      \n",
       "      <td>\n",
       "        170\n",
       "      </td>\n",
       "      \n",
       "      <td>\n",
       "        31.833910\n",
       "      </td>\n",
       "      \n",
       "      <td>\n",
       "        ...\n",
       "      </td>\n",
       "      \n",
       "      <td>\n",
       "        0.476060\n",
       "      </td>\n",
       "      \n",
       "      <td>\n",
       "        19.146000\n",
       "      </td>\n",
       "      \n",
       "      <td>\n",
       "        3.040000\n",
       "      </td>\n",
       "      \n",
       "      </tr>\n",
       "      \n",
       "      <tr>\n",
       "      \n",
       "      <td>\n",
       "        69\n",
       "      </td>\n",
       "      \n",
       "      <td>\n",
       "        186\n",
       "      </td>\n",
       "      \n",
       "      <td>\n",
       "        19.944502\n",
       "      </td>\n",
       "      \n",
       "      <td>\n",
       "        ...\n",
       "      </td>\n",
       "      \n",
       "      <td>\n",
       "        0.202952\n",
       "      </td>\n",
       "      \n",
       "      <td>\n",
       "        29.047000\n",
       "      </td>\n",
       "      \n",
       "      <td>\n",
       "        5.720000\n",
       "      </td>\n",
       "      \n",
       "      </tr>\n",
       "      \n",
       "      <tr>\n",
       "      \n",
       "      <td>\n",
       "        60\n",
       "      </td>\n",
       "      \n",
       "      <td>\n",
       "        160\n",
       "      </td>\n",
       "      \n",
       "      <td>\n",
       "        23.437500\n",
       "      </td>\n",
       "      \n",
       "      <td>\n",
       "        ...\n",
       "      </td>\n",
       "      \n",
       "      <td>\n",
       "        0.396893\n",
       "      </td>\n",
       "      \n",
       "      <td>\n",
       "        14.943000\n",
       "      </td>\n",
       "      \n",
       "      <td>\n",
       "        2.570000\n",
       "      </td>\n",
       "      \n",
       "      </tr>\n",
       "      \n",
       "      <tr>\n",
       "      \n",
       "      <td>\n",
       "        ...\n",
       "      </td>\n",
       "      \n",
       "      <td>\n",
       "        ...\n",
       "      </td>\n",
       "      \n",
       "      <td>\n",
       "        ...\n",
       "      </td>\n",
       "      \n",
       "      <td>\n",
       "        ...\n",
       "      </td>\n",
       "      \n",
       "      <td>\n",
       "        ...\n",
       "      </td>\n",
       "      \n",
       "      <td>\n",
       "        ...\n",
       "      </td>\n",
       "      \n",
       "      <td>\n",
       "        ...\n",
       "      </td>\n",
       "      \n",
       "      </tr>\n",
       "      \n",
       "      <tr>\n",
       "      \n",
       "      <td>\n",
       "        62\n",
       "      </td>\n",
       "      \n",
       "      <td>\n",
       "        171\n",
       "      </td>\n",
       "      \n",
       "      <td>\n",
       "        21.203105\n",
       "      </td>\n",
       "      \n",
       "      <td>\n",
       "        ...\n",
       "      </td>\n",
       "      \n",
       "      <td>\n",
       "        0.573280\n",
       "      </td>\n",
       "      \n",
       "      <td>\n",
       "        30.560000\n",
       "      </td>\n",
       "      \n",
       "      <td>\n",
       "        4.370000\n",
       "      </td>\n",
       "      \n",
       "      </tr>\n",
       "      \n",
       "      <tr>\n",
       "      \n",
       "      <td>\n",
       "        65\n",
       "      </td>\n",
       "      \n",
       "      <td>\n",
       "        190\n",
       "      </td>\n",
       "      \n",
       "      <td>\n",
       "        18.005540\n",
       "      </td>\n",
       "      \n",
       "      <td>\n",
       "        ...\n",
       "      </td>\n",
       "      \n",
       "      <td>\n",
       "        0.409640\n",
       "      </td>\n",
       "      \n",
       "      <td>\n",
       "        29.050000\n",
       "      </td>\n",
       "      \n",
       "      <td>\n",
       "        6.340000\n",
       "      </td>\n",
       "      \n",
       "      </tr>\n",
       "      \n",
       "      <tr>\n",
       "      \n",
       "      <td>\n",
       "        87\n",
       "      </td>\n",
       "      \n",
       "      <td>\n",
       "        185\n",
       "      </td>\n",
       "      \n",
       "      <td>\n",
       "        25.420015\n",
       "      </td>\n",
       "      \n",
       "      <td>\n",
       "        ...\n",
       "      </td>\n",
       "      \n",
       "      <td>\n",
       "        0.772808\n",
       "      </td>\n",
       "      \n",
       "      <td>\n",
       "        28.680000\n",
       "      </td>\n",
       "      \n",
       "      <td>\n",
       "        5.270000\n",
       "      </td>\n",
       "      \n",
       "      </tr>\n",
       "      \n",
       "      <tr>\n",
       "      \n",
       "      <td>\n",
       "        67\n",
       "      </td>\n",
       "      \n",
       "      <td>\n",
       "        176\n",
       "      </td>\n",
       "      \n",
       "      <td>\n",
       "        21.629649\n",
       "      </td>\n",
       "      \n",
       "      <td>\n",
       "        ...\n",
       "      </td>\n",
       "      \n",
       "      <td>\n",
       "        0.537985\n",
       "      </td>\n",
       "      \n",
       "      <td>\n",
       "        5.277000\n",
       "      </td>\n",
       "      \n",
       "      <td>\n",
       "        5.860000\n",
       "      </td>\n",
       "      \n",
       "      </tr>\n",
       "      \n",
       "      </tbody>\n",
       "    </table>\n",
       "    "
      ],
      "text/plain": [
       "R object with classes: ('data.frame',) mapped to:\n",
       "<DataFrame - Python:0x0000019B3BF12EC8 / R:0x0000019B3BFB63C0>\n",
       "[IntVector, IntVector, FloatVector, IntVector, ..., FloatVector, FloatVector, FloatVector, FloatVector]\n",
       "  Poids: <class 'rpy2.robjects.vectors.IntVector'>\n",
       "  R object with classes: ('integer',) mapped to:\n",
       "<IntVector - Python:0x0000019B3BBC0F48 / R:0x0000019B3BFAEF38>\n",
       "[53, 92, 69, 60, ..., 62, 65, 87, 67]\n",
       "  Taille: <class 'rpy2.robjects.vectors.IntVector'>\n",
       "  R object with classes: ('integer',) mapped to:\n",
       "<IntVector - Python:0x0000019B3BF0DEC8 / R:0x0000019B3BFB3388>\n",
       "[165, 170, 186, 160, ..., 171, 190, 185, 176]\n",
       "  BMI: <class 'rpy2.robjects.vectors.FloatVector'>\n",
       "  R object with classes: ('numeric',) mapped to:\n",
       "<FloatVector - Python:0x0000019B3BF12048 / R:0x0000019B3BFB3760>\n",
       "[19.467401, 31.833910, 19.944502, 23.437500, ..., 21.203105, 18.005540, 25.420015, 21.629649]\n",
       "  Age: <class 'rpy2.robjects.vectors.IntVector'>\n",
       "  R object with classes: ('integer',) mapped to:\n",
       "<IntVector - Python:0x0000019B3BF02308 / R:0x0000019B3BFB7A10>\n",
       "[54, 75, 41, 75, ..., 22, 19, 36, 32]\n",
       "...\n",
       "  Hb: <class 'rpy2.robjects.vectors.FloatVector'>\n",
       "  R object with classes: ('numeric',) mapped to:\n",
       "<FloatVector - Python:0x0000019B3BC07808 / R:0x0000019B3BFBB7A8>\n",
       "[450.315872, 72.271882, 372.142895, 89.206177, ..., 235.242838, 354.982440, 314.262896, 505.422285]\n",
       "  Diagnostic: <class 'rpy2.robjects.vectors.FloatVector'>\n",
       "  R object with classes: ('numeric',) mapped to:\n",
       "<FloatVector - Python:0x0000019B3BF02B88 / R:0x0000019B3BFBBC18>\n",
       "[0.142701, 0.476060, 0.202952, 0.396893, ..., 0.573280, 0.409640, 0.772808, 0.537985]\n",
       "  GST: <class 'rpy2.robjects.vectors.FloatVector'>\n",
       "  R object with classes: ('numeric',) mapped to:\n",
       "<FloatVector - Python:0x0000019B3BC0F708 / R:0x0000019B3BFBC088>\n",
       "[6.767000, 19.146000, 29.047000, 14.943000, ..., 30.560000, 29.050000, 28.680000, 5.277000]\n",
       "  Volume: <class 'rpy2.robjects.vectors.FloatVector'>\n",
       "  R object with classes: ('numeric',) mapped to:\n",
       "<FloatVector - Python:0x0000019B3BC0D8C8 / R:0x0000019B3BFBE418>\n",
       "[2.300000, 3.040000, 5.720000, 2.570000, ..., 4.370000, 6.340000, 5.270000, 5.860000]"
      ]
     },
     "execution_count": 10,
     "metadata": {},
     "output_type": "execute_result"
    }
   ],
   "source": [
    "from rpy2.robjects import pandas2ri\n",
    "\n",
    "pandas2ri.activate()\n",
    "\n",
    "r_dataframe = pandas2ri.py2ri(df)\n",
    "\n",
    "r_dataframe"
   ]
  },
  {
   "cell_type": "markdown",
   "metadata": {},
   "source": [
    "Như vậy bước chuẩn bị đã hoàn tất, ta sẽ thử vẽ 1 boxplot:"
   ]
  },
  {
   "cell_type": "code",
   "execution_count": 29,
   "metadata": {},
   "outputs": [
    {
     "data": {
      "image/png": "[encoded data removed]",
      "text/plain": [
       "<IPython.core.display.Image object>"
      ]
     },
     "execution_count": 29,
     "metadata": {},
     "output_type": "execute_result"
    }
   ],
   "source": [
    "pp = ggplot2.ggplot(r_dataframe) + \\\n",
    "     ggplot2.aes_string(x='Diagnostic', y='Thickness', fill ='Diagnostic') + \\\n",
    "     ggplot2.geom_boxplot(alpha = 0.8) + \\\n",
    "     ggplot2.theme_bw(15) + \\\n",
    "     ggplot2.coord_flip()\n",
    "\n",
    "ggplot_notebook(pp, name = \"violin_1.png\")"
   ]
  },
  {
   "cell_type": "markdown",
   "metadata": {},
   "source": [
    "Đánh giá của Nhi: Phẩm chất boxplot của ggplot2 tốt hơn seaborn (hình sắc nét hơn, grid đẹp hơn, màu sắc mặc định trong sáng, tương phản tốt)."
   ]
  },
  {
   "cell_type": "markdown",
   "metadata": {},
   "source": [
    "Tiếp theo, ta sẽ so sánh seaborn và ggplot2 khi vẽ 1D KDE plot:"
   ]
  },
  {
   "cell_type": "code",
   "execution_count": 40,
   "metadata": {},
   "outputs": [
    {
     "data": {
      "text/plain": [
       "Text(0, 0.5, 'Probability Density')"
      ]
     },
     "execution_count": 40,
     "metadata": {},
     "output_type": "execute_result"
    },
    {
     "data": {
      "image/png": "[encoded data removed]",
      "text/plain": [
       "<Figure size 576x432 with 1 Axes>"
      ]
     },
     "metadata": {},
     "output_type": "display_data"
    }
   ],
   "source": [
    "plt.figure(figsize=(8,6))\n",
    "\n",
    "sns.kdeplot(df.loc[(df['Diagnostic']=='N'), \n",
    "            'Thickness'], shade=True, Label='N') \n",
    "  \n",
    "sns.kdeplot(df.loc[(df['Diagnostic']=='F'), \n",
    "            'Thickness'], shade=True, Label='F') \n",
    "\n",
    "sns.kdeplot(df.loc[(df['Diagnostic']=='E'), \n",
    "            'Thickness'], shade=True, Label='E') \n",
    "  \n",
    "plt.xlabel('Thickness') \n",
    "plt.ylabel('Probability Density')"
   ]
  },
  {
   "cell_type": "code",
   "execution_count": 45,
   "metadata": {},
   "outputs": [
    {
     "data": {
      "image/png": "[encoded data removed]",
      "text/plain": [
       "<IPython.core.display.Image object>"
      ]
     },
     "execution_count": 45,
     "metadata": {},
     "output_type": "execute_result"
    }
   ],
   "source": [
    "pp = ggplot2.ggplot(r_dataframe) + \\\n",
    "     ggplot2.aes_string(x='Thickness', fill ='factor(Diagnostic)') + \\\n",
    "     ggplot2.geom_density(alpha = 0.6) + \\\n",
    "     ggplot2.theme_bw(15)\n",
    "\n",
    "ggplot_notebook(pp, name = \"kde_1.png\")"
   ]
  },
  {
   "cell_type": "markdown",
   "metadata": {},
   "source": [
    "Nhận xét: Biểu đồ KDE plot của seaborn đẹp hơn so với ggplot2\n",
    "\n",
    "Ta thử lần nữa với loại biểu đồ scatter plot và linear regression plot"
   ]
  },
  {
   "cell_type": "code",
   "execution_count": 22,
   "metadata": {},
   "outputs": [
    {
     "data": {
      "text/plain": [
       "<matplotlib.axes._subplots.AxesSubplot at 0x19b3e5c5308>"
      ]
     },
     "execution_count": 22,
     "metadata": {},
     "output_type": "execute_result"
    },
    {
     "data": {
      "image/png": "[encoded data removed]",
      "text/plain": [
       "<Figure size 432x432 with 1 Axes>"
      ]
     },
     "metadata": {
      "needs_background": "light"
     },
     "output_type": "display_data"
    }
   ],
   "source": [
    "plt.figure(figsize=(6,6))\n",
    "\n",
    "sns.scatterplot(data = df, x=\"Surface\", y=\"DmCO\", s = 100)"
   ]
  },
  {
   "cell_type": "code",
   "execution_count": 23,
   "metadata": {},
   "outputs": [
    {
     "data": {
      "text/plain": [
       "<seaborn.axisgrid.FacetGrid at 0x19b3e5531c8>"
      ]
     },
     "execution_count": 23,
     "metadata": {},
     "output_type": "execute_result"
    },
    {
     "data": {
      "image/png": "[encoded data removed]",
      "text/plain": [
       "<Figure size 360x360 with 1 Axes>"
      ]
     },
     "metadata": {
      "needs_background": "light"
     },
     "output_type": "display_data"
    }
   ],
   "source": [
    "sns.lmplot(data = df, x=\"Surface\", y=\"DmCO\")"
   ]
  },
  {
   "cell_type": "code",
   "execution_count": 18,
   "metadata": {},
   "outputs": [
    {
     "data": {
      "image/png": "[encoded data removed]",
      "text/plain": [
       "<IPython.core.display.Image object>"
      ]
     },
     "execution_count": 18,
     "metadata": {},
     "output_type": "execute_result"
    }
   ],
   "source": [
    "pp = ggplot2.ggplot(r_dataframe) + \\\n",
    "     ggplot2.aes_string(x='Surface', y = 'DmCO') + \\\n",
    "     ggplot2.geom_point(shape = 21, col = 'black', fill = 'red', size = 5) + \\\n",
    "     ggplot2.theme_bw(15)\n",
    "\n",
    "ggplot_notebook(pp, name = \"scatt_1.png\")"
   ]
  },
  {
   "cell_type": "code",
   "execution_count": 28,
   "metadata": {},
   "outputs": [
    {
     "data": {
      "image/png": "[encoded data removed]",
      "text/plain": [
       "<IPython.core.display.Image object>"
      ]
     },
     "execution_count": 28,
     "metadata": {},
     "output_type": "execute_result"
    }
   ],
   "source": [
    "pp = ggplot2.ggplot(r_dataframe) + \\\n",
    "     ggplot2.aes_string(x='Surface', y = 'DmCO') + \\\n",
    "     ggplot2.geom_point(shape = 20, col = 'red', size = 5, alpha = 0.5) + \\\n",
    "     ggplot2.geom_smooth(method = 'lm', col = \"red\", fill = \"red\", alpha = 0.2) + \\\n",
    "     ggplot2.theme_bw(15)\n",
    "\n",
    "ggplot_notebook(pp, name = \"scatt_1.png\")"
   ]
  },
  {
   "cell_type": "markdown",
   "metadata": {},
   "source": [
    "Về hiệu quả mỹ thuật, không có nhiều khác biệt giữa ggplot2 và searborn (hay matplotlib), có thể biểu đồ scatterplot và linear regresion của seaborn chỉ đẹp hơn 1 chút. Tuy nhiên, có những thứ mà ggplot2 làm rất dễ dàng nhưng seaborn không thể làm được, thí dụ hiệu ứng \"loess smoothing\" :"
   ]
  },
  {
   "cell_type": "code",
   "execution_count": 30,
   "metadata": {},
   "outputs": [
    {
     "data": {
      "image/png": "[encoded data removed]",
      "text/plain": [
       "<IPython.core.display.Image object>"
      ]
     },
     "execution_count": 30,
     "metadata": {},
     "output_type": "execute_result"
    }
   ],
   "source": [
    "pp = ggplot2.ggplot(r_dataframe) + \\\n",
    "     ggplot2.aes_string(x='Surface', y = 'DmCO') + \\\n",
    "     ggplot2.geom_point(shape = 20, col = 'red', size = 5, alpha = 0.5) + \\\n",
    "     ggplot2.geom_smooth(col = \"red\", fill = \"red\", alpha = 0.2) + \\\n",
    "     ggplot2.theme_bw(15)\n",
    "\n",
    "ggplot_notebook(pp, name = \"scatt_2.png\")"
   ]
  },
  {
   "cell_type": "markdown",
   "metadata": {},
   "source": [
    "## Tóm tắt\n",
    "\n",
    "Package rpy2 cho phép dùng song song 2 ngôn ngữ R và Python, thí dụ ta có thể vẽ biểu đồ bằng ggplot2 trong Python. \n",
    "\n",
    "Mỗi thư viện seaborn và ggplot2 đều có ưu, nhược điểm riêng. Thực ra đồ họa thống kê của Python có phẩm chất mỹ thuật tốt không thua kém, thậm chí cao hơn so với R. Tuy nhiên cú pháp ggplot2 dễ học hơn vì nó trong sáng hơn nhiều, thể hiện rất rõ lý thuyết về ngữ pháp đồ họa.\n",
    "\n",
    "Chúc các bạn thực hành vui"
   ]
  }
 ],
 "metadata": {
  "hide_input": false,
  "kernelspec": {
   "display_name": "Python 3",
   "language": "python",
   "name": "python3"
  },
  "language_info": {
   "codemirror_mode": {
    "name": "ipython",
    "version": 3
   },
   "file_extension": ".py",
   "mimetype": "text/x-python",
   "name": "python",
   "nbconvert_exporter": "python",
   "pygments_lexer": "ipython3",
   "version": "3.7.4"
  },
  "toc": {
   "base_numbering": 1,
   "nav_menu": {},
   "number_sections": true,
   "sideBar": true,
   "skip_h1_title": false,
   "title_cell": "Table of Contents",
   "title_sidebar": "Contents",
   "toc_cell": false,
   "toc_position": {},
   "toc_section_display": true,
   "toc_window_display": false
  }
 },
 "nbformat": 4,
 "nbformat_minor": 2
}
