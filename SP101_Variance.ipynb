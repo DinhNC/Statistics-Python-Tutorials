{
 "cells": [
  {
   "cell_type": "markdown",
   "metadata": {},
   "source": [
    "# Lập trình thống kê cơ bản\n",
    "\n",
    "# Bài 4: Phương sai\n",
    "\n",
    "### BS. Lê Ngọc Khả Nhi\n",
    "\n",
    "Chào các bạn, trong bài thứ 4 của series \"Lập trình thống kê cơ bản\" với ngôn ngữ Python, chúng ta sẽ tìm hiểu nhiều cách khác nhau để ước tính phương sai của một biến ngẫu nhiên, bao gồm code thủ công.\n",
    "\n",
    "Phương sai là một trị số thống kê nhằm đo lường mức độ phân tán của một biến ngẫu nhiên. Nói cách khác, ta muốn ước tính xem các giá trị của biến này nằm cách giá trị kỳ vọng (trung bình) bao xa. Phương sai được định nghĩa như \"trung bình của bình phương sai biệt giữa của mỗi điểm dữ liệu và trung bình số học\". \n",
    "\n",
    "lưu ý là ở đây ta đang nói về phương sai mẫu, chứ không phải của tổng thể, sự khác biệt nằm ở cách tính trung bình, với phương sai mẫu thì ta chia tổng bình phương sai số cho (N-1) với N là tổng số phần tử trong mẫu\n",
    "\n",
    "$\\sigma ^{2} = \\frac{1}{(N - 1)} \\sum_{i=1}^{N}\\left (x_{i} - \\bar{x}\\right )^{2}$\n",
    "\n",
    "Để minh họa, ta lấy một biến ngẫu nhiên X = giá trị pH của nước tiểu khảo sát trên 79 bệnh nhân:"
   ]
  },
  {
   "cell_type": "code",
   "execution_count": 1,
   "metadata": {},
   "outputs": [
    {
     "name": "stderr",
     "output_type": "stream",
     "text": [
      "C:\\Users\\bacsi\\Anaconda3\\lib\\site-packages\\statsmodels\\tools\\_testing.py:19: FutureWarning: pandas.util.testing is deprecated. Use the functions in the public API at pandas.testing instead.\n",
      "  import pandas.util.testing as tm\n"
     ]
    }
   ],
   "source": [
    "import pandas as pd\n",
    "import numpy as np\n",
    "\n",
    "import seaborn as sns"
   ]
  },
  {
   "cell_type": "code",
   "execution_count": 2,
   "metadata": {},
   "outputs": [
    {
     "data": {
      "text/plain": [
       "array([4.91, 5.74, 7.2 , 5.51, 6.52, 5.27, 5.62, 5.67, 5.41, 6.13, 6.19,\n",
       "       5.53, 7.12, 5.35, 5.21, 4.9 , 6.63, 6.81, 6.88, 6.14, 6.3 , 5.47,\n",
       "       7.38, 5.96, 5.68, 6.76, 7.61, 6.61, 5.87, 5.44, 7.92, 5.98, 6.56,\n",
       "       5.94, 5.85, 5.66, 6.4 , 6.35, 6.37, 6.18, 5.33, 5.64, 6.79, 5.97,\n",
       "       5.68, 5.94, 5.77, 5.6 , 5.53, 5.36, 5.16, 5.86, 6.27, 7.01, 6.21,\n",
       "       6.13, 5.73, 7.94, 6.28, 5.56, 5.71, 6.19, 5.24, 5.58, 5.98, 5.58,\n",
       "       5.9 , 6.75, 6.9 , 6.29, 4.76, 5.4 , 5.14, 5.09, 7.9 , 4.81, 5.4 ,\n",
       "       6.81, 6.03])"
      ]
     },
     "execution_count": 2,
     "metadata": {},
     "output_type": "execute_result"
    }
   ],
   "source": [
    "df = pd.read_csv('https://vincentarelbundock.github.io/Rdatasets/csv/boot/urine.csv', index_col=0)\n",
    "\n",
    "x = np.array(df.ph.values)\n",
    "\n",
    "x"
   ]
  },
  {
   "cell_type": "code",
   "execution_count": 3,
   "metadata": {},
   "outputs": [
    {
     "data": {
      "text/plain": [
       "79"
      ]
     },
     "execution_count": 3,
     "metadata": {},
     "output_type": "execute_result"
    }
   ],
   "source": [
    "len(x) # N = 79"
   ]
  },
  {
   "cell_type": "code",
   "execution_count": 4,
   "metadata": {},
   "outputs": [
    {
     "data": {
      "text/plain": [
       "<matplotlib.axes._subplots.AxesSubplot at 0x235ed3f2788>"
      ]
     },
     "execution_count": 4,
     "metadata": {},
     "output_type": "execute_result"
    },
    {
     "data": {
      "image/png": "[encoded data removed]",
      "text/plain": [
       "<Figure size 432x288 with 1 Axes>"
      ]
     },
     "metadata": {
      "needs_background": "light"
     },
     "output_type": "display_data"
    }
   ],
   "source": [
    "sns.distplot(x)"
   ]
  },
  {
   "cell_type": "markdown",
   "metadata": {},
   "source": [
    "Theo định nghĩa, ta thấy rằng để ước tính phương sai (Var) của x, ta cần xác định những yếu tố sau:\n",
    "\n",
    "1) Trung bình số học của X, các bạn có thể tham khảo bài số 1 trong Series này:\n",
    "\n",
    "https://nbviewer.jupyter.org/github/kinokoberuji/Statistics-Python-Tutorials/blob/master/SP_101%20Means.ipynb\n",
    "\n",
    "2) Cỡ mẫu: N, có thể tạo ra dễ dàng bằng hàm len()\n",
    "\n",
    "Từ đây, ta có thể đi đến đích bằng ít nhất 3 con đường:\n",
    "\n",
    "## Cách 1\n",
    "\n",
    "Tạo list tất cả bình phương sai số, sau đó lấy tổng bằng hàm sum, rồi chia cho (N-1):\n",
    "\n",
    "Có thể làm việc này bằng 1 vòng lặp for và append kết quả vào list rỗng"
   ]
  },
  {
   "cell_type": "code",
   "execution_count": 5,
   "metadata": {},
   "outputs": [],
   "source": [
    "def samp_var_1(x):\n",
    "    n = len(x)\n",
    "    mu = sum(x) / n\n",
    "    s=[]\n",
    "    for i in x:\n",
    "        s.append((i-mu)**2)\n",
    "    return sum(s)/(n - 1)"
   ]
  },
  {
   "cell_type": "code",
   "execution_count": 6,
   "metadata": {},
   "outputs": [
    {
     "data": {
      "text/plain": [
       "0.5246207400194743"
      ]
     },
     "execution_count": 6,
     "metadata": {},
     "output_type": "execute_result"
    }
   ],
   "source": [
    "samp_var_1(x)"
   ]
  },
  {
   "cell_type": "markdown",
   "metadata": {},
   "source": [
    "## Cách 2:\n",
    "\n",
    "Cách này ta rút ngắn con đường bằng cách đi trực tiếp từ tổng bình phương sai số (ss)\n",
    "Trước hết khởi tạo object ss có giá trị = 0;\n",
    "Dùng 1 vòng lặp for để cộng dồn giá trị bình pương sai số vào ss\n",
    "Cuối cùng chia ss cho (n-1)"
   ]
  },
  {
   "cell_type": "code",
   "execution_count": 7,
   "metadata": {},
   "outputs": [],
   "source": [
    "def samp_var_2(x):\n",
    "    n = len(x)\n",
    "    mu = sum(x) / n\n",
    "    \n",
    "    ss = 0\n",
    "    \n",
    "    for i in x:\n",
    "        ss += (i - mu) ** 2\n",
    "    \n",
    "    return ss / (n-1)"
   ]
  },
  {
   "cell_type": "code",
   "execution_count": 8,
   "metadata": {},
   "outputs": [
    {
     "data": {
      "text/plain": [
       "0.5246207400194743"
      ]
     },
     "execution_count": 8,
     "metadata": {},
     "output_type": "execute_result"
    }
   ],
   "source": [
    "samp_var_2(x)"
   ]
  },
  {
   "cell_type": "markdown",
   "metadata": {},
   "source": [
    "## Cách 3:\n",
    "\n",
    "Đây là cách tối ưu nhất mà bạn có thể làm, và Python cho phép bạn làm điều này nhờ tính năng comprehension cho tuple hay list, thay thế cho vòng lặp. Nhắc lại là list comprehension được ưa chuộng hơn (Pyhonic hơn) so với vòng lặp for, các bạn chuyển từ R sang Python cần chú ý chi tiết này.\n",
    "\n",
    "Ta thực hiện 1 list (hay tuple) comprehension để tạo ra list bình phương sai số, rồi dùng trực tiếp hàm sum, và chia kết quả cho (n-1)"
   ]
  },
  {
   "cell_type": "code",
   "execution_count": 17,
   "metadata": {},
   "outputs": [],
   "source": [
    "def samp_var_3(x):\n",
    "    n = len(x)\n",
    "    mu = sum(x) / n\n",
    "    return sum((i - mu)**2 for i in x) / (n - 1)"
   ]
  },
  {
   "cell_type": "code",
   "execution_count": 18,
   "metadata": {},
   "outputs": [
    {
     "data": {
      "text/plain": [
       "0.5246207400194743"
      ]
     },
     "execution_count": 18,
     "metadata": {},
     "output_type": "execute_result"
    }
   ],
   "source": [
    "samp_var_3(x)"
   ]
  },
  {
   "cell_type": "markdown",
   "metadata": {},
   "source": [
    "## Dùng thư viện\n",
    "\n",
    "Ngoài ra, bạn có thể tính Variance bằng 5 cách khác nếu sử dụng các package thống kê\n",
    "\n",
    "Đầu tiên, hàm variance của module statistics trong Python:"
   ]
  },
  {
   "cell_type": "code",
   "execution_count": 14,
   "metadata": {},
   "outputs": [
    {
     "data": {
      "text/plain": [
       "0.5246207400194742"
      ]
     },
     "execution_count": 14,
     "metadata": {},
     "output_type": "execute_result"
    }
   ],
   "source": [
    "import statistics as sts\n",
    "\n",
    "sts.variance(x)"
   ]
  },
  {
   "cell_type": "markdown",
   "metadata": {},
   "source": [
    "Tiếp theo, hàm var của thư viện numpy"
   ]
  },
  {
   "cell_type": "code",
   "execution_count": 15,
   "metadata": {},
   "outputs": [
    {
     "data": {
      "text/plain": [
       "0.5179799711584682"
      ]
     },
     "execution_count": 15,
     "metadata": {},
     "output_type": "execute_result"
    }
   ],
   "source": [
    "np.var(x)"
   ]
  },
  {
   "cell_type": "markdown",
   "metadata": {},
   "source": [
    "Nếu x là 1 numpy array, có thể đi tắt bằng method x.var()"
   ]
  },
  {
   "cell_type": "code",
   "execution_count": 13,
   "metadata": {},
   "outputs": [
    {
     "data": {
      "text/plain": [
       "0.5179799711584682"
      ]
     },
     "execution_count": 13,
     "metadata": {},
     "output_type": "execute_result"
    }
   ],
   "source": [
    "x.var()"
   ]
  },
  {
   "cell_type": "markdown",
   "metadata": {},
   "source": [
    "Nếu X là pandas Series, ta có thể dùng method var()"
   ]
  },
  {
   "cell_type": "code",
   "execution_count": 55,
   "metadata": {},
   "outputs": [
    {
     "data": {
      "text/plain": [
       "0.5246207400194743"
      ]
     },
     "execution_count": 55,
     "metadata": {},
     "output_type": "execute_result"
    }
   ],
   "source": [
    "pd.Series(x).var()"
   ]
  },
  {
   "cell_type": "code",
   "execution_count": null,
   "metadata": {},
   "outputs": [],
   "source": [
    "Cuối cùng, hàm tvar() của module stats của scipy:"
   ]
  },
  {
   "cell_type": "code",
   "execution_count": 16,
   "metadata": {},
   "outputs": [
    {
     "data": {
      "text/plain": [
       "0.5246207400194742"
      ]
     },
     "execution_count": 16,
     "metadata": {},
     "output_type": "execute_result"
    }
   ],
   "source": [
    "import scipy.stats as scp_stat\n",
    "\n",
    "scp_stat.tvar(x)"
   ]
  },
  {
   "cell_type": "markdown",
   "metadata": {},
   "source": [
    "Bài thực hành đến đây là hết, lưu ý: Từ variance bạn có thể tính ra độ lệch chuẩn dễ dàng.\n",
    "Chúc các bạn thực hành vui và hẹn gặp lại."
   ]
  },
  {
   "cell_type": "code",
   "execution_count": null,
   "metadata": {},
   "outputs": [],
   "source": []
  }
 ],
 "metadata": {
  "hide_input": false,
  "kernelspec": {
   "display_name": "Python 3",
   "language": "python",
   "name": "python3"
  },
  "language_info": {
   "codemirror_mode": {
    "name": "ipython",
    "version": 3
   },
   "file_extension": ".py",
   "mimetype": "text/x-python",
   "name": "python",
   "nbconvert_exporter": "python",
   "pygments_lexer": "ipython3",
   "version": "3.7.4"
  },
  "toc": {
   "base_numbering": 1,
   "nav_menu": {},
   "number_sections": true,
   "sideBar": true,
   "skip_h1_title": false,
   "title_cell": "Table of Contents",
   "title_sidebar": "Contents",
   "toc_cell": false,
   "toc_position": {},
   "toc_section_display": true,
   "toc_window_display": false
  }
 },
 "nbformat": 4,
 "nbformat_minor": 2
}
